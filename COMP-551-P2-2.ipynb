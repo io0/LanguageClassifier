{
 "cells": [
  {
   "cell_type": "code",
   "execution_count": 72,
   "metadata": {
    "collapsed": true
   },
   "outputs": [],
   "source": [
    "import csv\n",
    "import re\n",
    "from random import shuffle\n",
    "import pandas as pd\n",
    "import numpy as np\n",
    "import math\n",
    "import operator\n",
    "import matplotlib.pyplot as plt\n",
    "from collections import Counter\n",
    "from time import time\n",
    "from sklearn.pipeline import Pipeline\n",
    "from sklearn.model_selection import GridSearchCV\n",
    "from sklearn.model_selection import train_test_split\n",
    "from sklearn.feature_extraction.text import CountVectorizer\n",
    "from sklearn.feature_extraction.text import TfidfTransformer\n",
    "from sklearn.linear_model import LogisticRegression\n",
    "from sklearn.naive_bayes import MultinomialNB\n",
    "from sklearn.svm import SVC"
   ]
  },
  {
   "cell_type": "code",
   "execution_count": 73,
   "metadata": {
    "collapsed": true
   },
   "outputs": [],
   "source": [
    "# Load data\n",
    "df_x = pd.read_csv('train_set_x.csv', index_col='Id').values\n",
    "df_y = pd.read_csv('train_set_y.csv', index_col='Id').values\n",
    "valid = pd.read_csv('test_set_x.csv', index_col='Id').values"
   ]
  },
  {
   "cell_type": "code",
   "execution_count": 74,
   "metadata": {
    "collapsed": true
   },
   "outputs": [],
   "source": [
    "## PREPROCESSING\n",
    "#stats_pre = [('Size', len(df))]\n",
    "# Remove empty samples\n",
    "#row_empty = []\n",
    "#for i, r in enumerate(df):\n",
    "#    if not type(r[0]) is str:\n",
    "#        if np.isnan(r[0]):\n",
    "#            row_empty.append(i)\n",
    "#df_pre_es = np.delete(df, row_empty, axis=0)\n",
    "#df_x = np.delete(df_x, row_empty, axis=0)\n",
    "#df_y = np.delete(df_y, row_empty, axis=0)\n",
    "#stats_pre.append(('Empty Samples', len(row_empty)))"
   ]
  },
  {
   "cell_type": "code",
   "execution_count": 75,
   "metadata": {
    "collapsed": true
   },
   "outputs": [],
   "source": [
    "df_x[pd.isnull(df_x)] = '' #potentially uses tab chars instead\n",
    "valid[pd.isnull(valid)] = ''\n",
    "df = np.concatenate((df_x,df_y), axis=1)"
   ]
  },
  {
   "cell_type": "markdown",
   "metadata": {},
   "source": [
    "# Data Exploration"
   ]
  },
  {
   "cell_type": "code",
   "execution_count": 76,
   "metadata": {},
   "outputs": [
    {
     "data": {
      "image/png": "[encoded data removed]",
      "text/plain": [
       "<matplotlib.figure.Figure at 0x1145de790>"
      ]
     },
     "metadata": {},
     "output_type": "display_data"
    }
   ],
   "source": [
    "# Count number of results per class\n",
    "class_count = dict()\n",
    "for i in df_y:\n",
    "    if i[0] in class_count:\n",
    "        class_count[i[0]] += 1\n",
    "    else:\n",
    "        class_count[i[0]] = 1\n",
    "plt.bar(list(class_count.keys()), list(class_count.values()))\n",
    "plt.title('Results per class')\n",
    "plt.show()"
   ]
  },
  {
   "cell_type": "code",
   "execution_count": null,
   "metadata": {
    "collapsed": true
   },
   "outputs": [],
   "source": [
    "# Plot distribution of letters per class for training_data\n",
    "cnt_alphas = []\n",
    "cnt_specials = []\n",
    "for i in list(class_count.keys()):\n",
    "    #df_split.append(df[np.where(df[:,1]==i),0].tolist()[0])\n",
    "    class_data = df[np.where(df[:,1]==i),0].tolist()[0]\n",
    "    c_a = Counter()\n",
    "    c_s = Counter()\n",
    "    for sample in class_data:\n",
    "        c_a += Counter(re.findall(r'[a-zA-z0-9]', sample.lower()))\n",
    "        c_s += Counter(re.findall(r'[^ a-zA-z0-9\\s]', sample.lower()))\n",
    "    cnt_alphas.append(c_a)\n",
    "    cnt_specials.append(c_s)"
   ]
  },
  {
   "cell_type": "code",
   "execution_count": 78,
   "metadata": {},
   "outputs": [
    {
     "ename": "NameError",
     "evalue": "name 'test' is not defined",
     "output_type": "error",
     "traceback": [
      "\u001b[0;31m---------------------------------------------------------------------------\u001b[0m",
      "\u001b[0;31mNameError\u001b[0m                                 Traceback (most recent call last)",
      "\u001b[0;32m<ipython-input-78-5969c7fc29b3>\u001b[0m in \u001b[0;36m<module>\u001b[0;34m()\u001b[0m\n\u001b[1;32m      2\u001b[0m \u001b[0mcnt_t_alphas\u001b[0m \u001b[0;34m=\u001b[0m \u001b[0;34m[\u001b[0m\u001b[0;34m]\u001b[0m\u001b[0;34m\u001b[0m\u001b[0m\n\u001b[1;32m      3\u001b[0m \u001b[0mcnt_t_specials\u001b[0m \u001b[0;34m=\u001b[0m \u001b[0;34m[\u001b[0m\u001b[0;34m]\u001b[0m\u001b[0;34m\u001b[0m\u001b[0m\n\u001b[0;32m----> 4\u001b[0;31m \u001b[0mtest_data\u001b[0m \u001b[0;34m=\u001b[0m \u001b[0mtest\u001b[0m\u001b[0;34m.\u001b[0m\u001b[0mtolist\u001b[0m\u001b[0;34m(\u001b[0m\u001b[0;34m)\u001b[0m\u001b[0;34m\u001b[0m\u001b[0m\n\u001b[0m\u001b[1;32m      5\u001b[0m \u001b[0;32mfor\u001b[0m \u001b[0msample\u001b[0m \u001b[0;32min\u001b[0m \u001b[0mtest_data\u001b[0m\u001b[0;34m:\u001b[0m\u001b[0;34m\u001b[0m\u001b[0m\n\u001b[1;32m      6\u001b[0m  \u001b[0mc_t_a\u001b[0m \u001b[0;34m+=\u001b[0m \u001b[0mCounter\u001b[0m\u001b[0;34m(\u001b[0m\u001b[0mre\u001b[0m\u001b[0;34m.\u001b[0m\u001b[0mfindall\u001b[0m\u001b[0;34m(\u001b[0m\u001b[0;34mr'[a-zA-z0-9]'\u001b[0m\u001b[0;34m,\u001b[0m \u001b[0msample\u001b[0m\u001b[0;34m[\u001b[0m\u001b[0;36m0\u001b[0m\u001b[0;34m]\u001b[0m\u001b[0;34m)\u001b[0m\u001b[0;34m)\u001b[0m\u001b[0;34m\u001b[0m\u001b[0m\n",
      "\u001b[0;31mNameError\u001b[0m: name 'test' is not defined"
     ]
    }
   ],
   "source": [
    "#Plot distribution of letters per class for test_data\n",
    "cnt_t_alphas = []\n",
    "cnt_t_specials = []\n",
    "test_data = test.tolist()\n",
    "for sample in test_data:\n",
    " c_t_a += Counter(re.findall(r'[a-zA-z0-9]', sample[0]))\n",
    " c_t_s += Counter(re.findall(r'[^ a-zA-z0-9\\s]', sample[0]))"
   ]
  },
  {
   "cell_type": "markdown",
   "metadata": {},
   "source": [
    "# Modelling\n",
    "\n",
    "Training code starts here on Multinomial Naive Bayes.\n",
    "There doesn't seem to be a correlation between cross-validation accuracy and test set accuracy. Probably because the test set was generated with the assumption that letters were sampled randomly but only once per word. The CountVectorizer was performed using Bag-of-Words (actually characters) "
   ]
  },
  {
   "cell_type": "code",
   "execution_count": 80,
   "metadata": {
    "collapsed": true
   },
   "outputs": [],
   "source": [
    "# Data Splitting\n",
    "x_train, x_test, y_train, y_test = train_test_split(df_x, df_y, test_size=0.2, random_state=14)\n",
    "x_test_gen = [[] for i in range(len(x_test))]\n",
    "for i, test_samples in enumerate(x_test):\n",
    "    sequence = list(re.sub(r'\\s', '', test_samples[0]))\n",
    "    shuffle(sequence)\n",
    "    if len(sequence) > 10:\n",
    "        sequence = sequence[:10]\n",
    "    sequence = ' '.join(sequence)\n",
    "    \n",
    "    \n",
    "    #for words in re.split(r'\\s+', test_samples[0]):\n",
    "    #    if words == '':\n",
    "    #        sequence.append('')\n",
    "    #    else:\n",
    "    #        sequence.append(words[np.random.randint(0,len(words))])\n",
    "    x_test_gen[i] = sequence\n",
    "x_test_gen = np.array(x_test_gen)"
   ]
  },
  {
   "cell_type": "code",
   "execution_count": 44,
   "metadata": {
    "collapsed": true
   },
   "outputs": [],
   "source": [
    "# Naive Bayes - Multinomial\n",
    "# Model Selection\n",
    "#pipeline_nb_m = Pipeline([\n",
    " #   ('vect', CountVectorizer(analyzer='char')),\n",
    "  #  ('trsf', TfidfTransformer(sublinear_tf=True)),\n",
    "   # ('clf', MultinomialNB(alpha=0)),\n",
    "#])\n",
    "#parameters_nb_m = {\n",
    " #   'vect__ngram_range': [(1,1),(1,2)],\n",
    "    #'vect__lowercase': (True, False),\n",
    "  #  'vect__max_df': (1.0, 0.99, 0.9),\n",
    "   # 'trsf__use_idf': (True, False) \n",
    "#}\n",
    "#t_nb_m = time()\n",
    "#gs_nb = GridSearchCV(pipeline_nb_m,parameters_nb_m, n_jobs=-1)\n",
    "#gs_nb = gs_nb.fit(x_train.flatten().tolist(),y_train.flatten().tolist())\n",
    "#print ('Done %03f' % (time() - t_nb_m))\n",
    "#pred_nb = gs_nb.predict(x_test_gen.flatten().tolist())\n",
    "#print ('Naive Bayes %02.02f%%' % (np.mean(pred_nb == y_test.flatten().tolist())*100))"
   ]
  },
  {
   "cell_type": "code",
   "execution_count": 81,
   "metadata": {
    "collapsed": true
   },
   "outputs": [],
   "source": [
    "#euclidian Distance calculation function\n",
    "def EuclidianDis(point1, point2, length):\n",
    "    dist = 0\n",
    "    for x in range(length):\n",
    "        dist += pow((point1[x] - point2[x]), 2)\n",
    "    return math.sqrt(dist)"
   ]
  },
  {
   "cell_type": "code",
   "execution_count": 82,
   "metadata": {
    "collapsed": true
   },
   "outputs": [],
   "source": [
    "\n",
    "#The function for getting the K neighbors  \n",
    "def GetNeighbors(TrainingData, TestData,k):\n",
    "    distances = []\n",
    "    length = len(TestData) - 1\n",
    "    for y in range(len(TrainingData)):\n",
    "        interval = EuclidianDis(TestData, TrainingData[y], length)\n",
    "        distances.append((TrainingData[y], interval))\n",
    "    distances.sort(key = operator.itemgetter(1))\n",
    "    neighbors = []\n",
    "    for x in range(k):\n",
    "        neighbors.append(distances[y][0])\n",
    "    return neighbors"
   ]
  },
  {
   "cell_type": "code",
   "execution_count": 83,
   "metadata": {
    "collapsed": true
   },
   "outputs": [],
   "source": [
    "# the prediction response based on neighbors\n",
    "def PredictedResponse(neighbors):\n",
    "\tVotes = {}\n",
    "\tfor x in range(len(neighbors)):\n",
    "\t\tres = neighbors[x][-1]\n",
    "\t\tif res in Votes:\n",
    "\t\t\tVotes[res] += 1\n",
    "\t\telse:\n",
    "\t\t\tVotes[res] = 1\n",
    "\tsortedVotes = sorted(Votes.iteritems(), key=operator.itemgetter(1), reverse=True)\n",
    "\treturn sortedVotes[0][0]"
   ]
  },
  {
   "cell_type": "code",
   "execution_count": 84,
   "metadata": {
    "collapsed": true
   },
   "outputs": [],
   "source": [
    "#print ('NAIVE BAYES')\n",
    "#print ('Accuracy %02.02f%%' % (gs_nb.best_score_*100))\n",
    "#for param_name in sorted(parameters_nb_m.keys()):\n",
    " #   print ('%s: %r' % (param_name, gs_nb.best_params_[param_name]))"
   ]
  },
  {
   "cell_type": "code",
   "execution_count": 85,
   "metadata": {
    "collapsed": true
   },
   "outputs": [],
   "source": [
    "#the accuracy of obtained predictions\n",
    "def getAccuracy(TestSet, predictions):\n",
    "\tcorrect = 0\n",
    "\tfor x in range(len(TestSet)):\n",
    "\t\tif TestSet[x][-1] is predictions[x]:\n",
    "\t\t\tcorrect += 1\n",
    "\treturn (correct/float(len(TestSet))) * 100.0"
   ]
  },
  {
   "cell_type": "code",
   "execution_count": 96,
   "metadata": {
    "collapsed": true
   },
   "outputs": [],
   "source": [
    "#Spliting the dataset\n",
    "#def loadDataset(filename, split, trainingSet=[] , testSet=[]):\n",
    "#\twith open(filename, 'rb') as csvfile:\n",
    "#\t    lines = csv.reader(csvfile)\n",
    "#\t    dataset = list(lines)\n",
    "#\t    for x in range(len(dataset)-1):\n",
    "#\t        for y in range(4):\n",
    "#\t            dataset[x][y] = float(dataset[x][y])\n",
    "#\t        if random.random() < split:\n",
    "#\t            trainingSet.append(dataset[x])\n",
    "#\t        else:\n",
    "#\t            testSet.append(dataset[x])"
   ]
  },
  {
   "cell_type": "code",
   "execution_count": 97,
   "metadata": {
    "collapsed": true
   },
   "outputs": [],
   "source": [
    "#pred_nb = gs_nb.predict(x_test_gen.flatten().tolist())\n",
    "#print ('Naive Bayes %02.02f%%' % (np.mean(pred_nb == y_test.flatten().tolist())*100))"
   ]
  },
  {
   "cell_type": "code",
   "execution_count": 99,
   "metadata": {},
   "outputs": [],
   "source": [
    "def main():\n",
    "   trainingSet=[]\n",
    "   testSet=[]\n",
    "   predictions=[]\n",
    "   k = 3\n",
    "   for x in range(len(testSet)):\n",
    "\tneighbors = GetNeighbors(x_train.flatten().tolist(), x_test_gen.flatten().tolist(), k)\n",
    "\tresult = PredictedResponse(neighbors)\n",
    "\tpredictions.append(result)\n",
    "\tprint('> predicted=' + repr(result) + ', actual=' + repr(testSet[x][-1]))\n",
    "\taccuracy = getAccuracy(x_test_gen.flatten().tolist(), predictions)\n",
    "\tprint('Accuracy: ' + repr(accuracy) + '%')\n",
    "\t\n",
    "main()"
   ]
  },
  {
   "cell_type": "code",
   "execution_count": 91,
   "metadata": {},
   "outputs": [],
   "source": [
    "# Saving predictions to an output file for submission to the competition\n",
    "#filename = 'nb0.csv'\n",
    "#predictions = gs_nb.predict(valid.flatten().tolist())\n",
    "#with open(filename,'w') as out:\n",
    " #   for i, e in enumerate(predictions):\n",
    "  #      out.write(str(i))\n",
    "   #     out.write(',')\n",
    "    #    out.write(str(e))\n",
    "     #   out.write('\\n')"
   ]
  },
  {
   "cell_type": "code",
   "execution_count": null,
   "metadata": {
    "collapsed": true
   },
   "outputs": [],
   "source": []
  }
 ],
 "metadata": {
  "kernelspec": {
   "display_name": "Python 2",
   "language": "python",
   "name": "python2"
  },
  "language_info": {
   "codemirror_mode": {
    "name": "ipython",
    "version": 2
   },
   "file_extension": ".py",
   "mimetype": "text/x-python",
   "name": "python",
   "nbconvert_exporter": "python",
   "pygments_lexer": "ipython2",
   "version": "2.7.13"
  }
 },
 "nbformat": 4,
 "nbformat_minor": 2
}
